{
 "cells": [
  {
   "cell_type": "code",
   "execution_count": 1,
   "id": "f0be9a88-1e3f-4a8b-9320-3641949bba1a",
   "metadata": {},
   "outputs": [],
   "source": [
    "from pynput import keyboard, mouse"
   ]
  },
  {
   "cell_type": "code",
   "execution_count": 8,
   "id": "dbafe8eb-92be-4f56-aca2-11caddd70ff2",
   "metadata": {},
   "outputs": [],
   "source": [
    "from pynput.keyboard import Key, Controller\n",
    "\n",
    "keyboard = Controller()\n",
    "\n",
    "def volumeUp():\n",
    "    print(\"Volume Up\")\n",
    "    keyboard.press(Key.media_volume_up)\n",
    "    keyboard.release(Key.media_volume_up)\n",
    "\n",
    "def volumeDown():\n",
    "    print(\"Volume Down\")\n",
    "    keyboard.press(Key.media_volume_down)\n",
    "    keyboard.release(Key.media_volume_down)\n",
    "\n",
    "def ctrlAltDelete():\n",
    "    print(\"ctrl+alt+del\")\n",
    "    keyboard.press(Key.ctrl)\n",
    "    keyboard.press(Key.alt)\n",
    "    keyboard.press(Key.delete)\n",
    "    keyboard.release(Key.ctrl)\n",
    "    keyboard.release(Key.alt)\n",
    "    keyboard.release(Key.delete)\n",
    "\n",
    "def scrollUp():\n",
    "    print(\"Scroll Up\")\n",
    "    keyboard.press(Key.page_up)\n",
    "    keyboard.release(Key.page_up)\n",
    "\n",
    "def scrollDown():\n",
    "    print(\"Scroll Down\")\n",
    "    keyboard.press(Key.page_down)\n",
    "    keyboard.release(Key.page_down)"
   ]
  },
  {
   "cell_type": "code",
   "execution_count": null,
   "id": "ad81e025-7bd1-44f7-81bd-84d704760611",
   "metadata": {},
   "outputs": [],
   "source": []
  }
 ],
 "metadata": {
  "kernelspec": {
   "display_name": "tensorflow",
   "language": "python",
   "name": "tensorflow"
  },
  "language_info": {
   "codemirror_mode": {
    "name": "ipython",
    "version": 3
   },
   "file_extension": ".py",
   "mimetype": "text/x-python",
   "name": "python",
   "nbconvert_exporter": "python",
   "pygments_lexer": "ipython3",
   "version": "3.9.19"
  }
 },
 "nbformat": 4,
 "nbformat_minor": 5
}
