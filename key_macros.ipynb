{
 "cells": [
  {
   "cell_type": "code",
   "execution_count": null,
   "id": "5a33ae88",
   "metadata": {
    "scrolled": true
   },
   "outputs": [],
   "source": [
    "from pynput import keyboard\n",
    "\n",
    "def on_activate_h():\n",
    "    print('<ctrl>+<alt>+h pressed')\n",
    "\n",
    "def on_activate_i():\n",
    "    print('<ctrl>+<alt>+i pressed')\n",
    "\n",
    "with keyboard.GlobalHotKeys({\n",
    "        '<ctrl>+<alt>+h': on_activate_h,\n",
    "        '<ctrl>+<alt>+i': on_activate_i}) as h:\n",
    "    h.join()"
   ]
  },
  {
   "cell_type": "code",
   "execution_count": null,
   "id": "b32207d9",
   "metadata": {},
   "outputs": [],
   "source": []
  }
 ],
 "metadata": {
  "kernelspec": {
   "display_name": "Python 3 (ipykernel)",
   "language": "python",
   "name": "python3"
  },
  "language_info": {
   "codemirror_mode": {
    "name": "ipython",
    "version": 3
   },
   "file_extension": ".py",
   "mimetype": "text/x-python",
   "name": "python",
   "nbconvert_exporter": "python",
   "pygments_lexer": "ipython3",
   "version": "3.11.4"
  }
 },
 "nbformat": 4,
 "nbformat_minor": 5
}
