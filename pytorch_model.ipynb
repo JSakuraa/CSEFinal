{
 "cells": [
  {
   "cell_type": "code",
   "execution_count": null,
   "id": "c0af23ea",
   "metadata": {},
   "outputs": [],
   "source": [
    "!mkdir datasets\n",
    "!ls D:\\DevProjects\\CSEFinal\\ProjectFiles\\asl_alphabet_train\\asl_alphabet_train"
   ]
  },
  {
   "cell_type": "code",
   "execution_count": null,
   "id": "f67c5ec8",
   "metadata": {},
   "outputs": [],
   "source": [
    "import splitfolders\n",
    "train_data = \"asl_alphabet_train/asl_alphabet_train\"\n",
    "\n",
    "splitfolders.ratio(train_data, output=\"datasets/asl_alphabet\", \n",
    "                   seed=1337, ratio=(.8,.1,.1), group_prefix=None, move=False)"
   ]
  },
  {
   "cell_type": "code",
   "execution_count": 1,
   "id": "e1a6be42",
   "metadata": {},
   "outputs": [],
   "source": [
    "train_data = \"asl_alphabet_train/asl_alphabet_train\"\n",
    "train_dir = 'datasets/asl_alphabet/train'\n",
    "val_dir = 'datasets/asl_alphabet/val'\n",
    "test_dir  = 'datasets/asl_alphabet/test'"
   ]
  },
  {
   "cell_type": "code",
   "execution_count": 2,
   "id": "d0c956dc",
   "metadata": {},
   "outputs": [],
   "source": [
    "import torch\n",
    "import torchvision\n",
    "from torch.utils.data import DataLoader\n",
    "from torchvision import transforms\n",
    "\n",
    "batch_size = 32\n",
    "target_size = (32, 32)\n",
    "\n",
    "# Define data transformations\n",
    "transform = transforms.Compose([\n",
    "    transforms.Grayscale(num_output_channels=1),  # Grayscale conversion\n",
    "    transforms.Resize(target_size),  # Resize images\n",
    "    transforms.ToTensor(),  # Convert to PyTorch tensors\n",
    "    transforms.Normalize(mean=[0.5], std=[0.5]),  # Normalize pixel values\n",
    "])\n",
    "\n",
    "# Create datasets\n",
    "train_dataset = torchvision.datasets.ImageFolder(train_dir, transform=transform)\n",
    "val_dataset = torchvision.datasets.ImageFolder(val_dir, transform=transform)\n",
    "test_dataset = torchvision.datasets.ImageFolder(test_dir, transform=transform)\n",
    "\n",
    "# Create data loaders with shuffling for training and validation sets\n",
    "train_loader = DataLoader(train_dataset, batch_size=batch_size, shuffle=True)\n",
    "val_loader = DataLoader(val_dataset, batch_size=batch_size, shuffle=True)\n",
    "\n",
    "# Create data loader for testing (no shuffling needed)\n",
    "test_loader = DataLoader(test_dataset, batch_size=batch_size, shuffle=False)\n"
   ]
  },
  {
   "cell_type": "code",
   "execution_count": 3,
   "id": "54fcb89e",
   "metadata": {
    "scrolled": true
   },
   "outputs": [
    {
     "name": "stdout",
     "output_type": "stream",
     "text": [
      "['A', 'B', 'C', 'D', 'E', 'F', 'G', 'H', 'I', 'J', 'K', 'L', 'M', 'N', 'O', 'P', 'Q', 'R', 'S', 'T', 'U', 'V', 'W', 'X', 'Y', 'Z', 'del', 'nothing', 'space']\n"
     ]
    }
   ],
   "source": [
    "labels = list(train_dataset.class_to_idx.keys())\n",
    "print(labels)"
   ]
  },
  {
   "cell_type": "markdown",
   "id": "934fd89b",
   "metadata": {},
   "source": [
    "## Show dataset"
   ]
  },
  {
   "cell_type": "code",
   "execution_count": 6,
   "id": "e1233a9c",
   "metadata": {},
   "outputs": [
    {
     "ename": "NameError",
     "evalue": "name 'images_batch' is not defined",
     "output_type": "error",
     "traceback": [
      "\u001b[1;31m---------------------------------------------------------------------------\u001b[0m",
      "\u001b[1;31mNameError\u001b[0m                                 Traceback (most recent call last)",
      "Cell \u001b[1;32mIn[6], line 9\u001b[0m\n\u001b[0;32m      7\u001b[0m \u001b[38;5;66;03m# Create an empty tensor to store images\u001b[39;00m\n\u001b[0;32m      8\u001b[0m num_images_to_sample \u001b[38;5;241m=\u001b[39m \u001b[38;5;241m8\u001b[39m  \u001b[38;5;66;03m# Adjust as needed\u001b[39;00m\n\u001b[1;32m----> 9\u001b[0m images_tensor \u001b[38;5;241m=\u001b[39m torch\u001b[38;5;241m.\u001b[39mempty((num_images_to_sample, \u001b[38;5;241m*\u001b[39mimages_batch[\u001b[38;5;241m0\u001b[39m]\u001b[38;5;241m.\u001b[39mshape))  \u001b[38;5;66;03m# Match image shape\u001b[39;00m\n\u001b[0;32m     11\u001b[0m \u001b[38;5;66;03m# Sample images from the data loader\u001b[39;00m\n\u001b[0;32m     12\u001b[0m sampled_images \u001b[38;5;241m=\u001b[39m \u001b[38;5;241m0\u001b[39m\n",
      "\u001b[1;31mNameError\u001b[0m: name 'images_batch' is not defined"
     ]
    }
   ],
   "source": [
    "from torch.utils.data import DataLoader\n",
    "import torch\n",
    "\n",
    "# Assuming you have your data loader defined:\n",
    "data_loader = train_loader  # Your data loader\n",
    "\n",
    "# Create an empty tensor to store images\n",
    "num_images_to_sample = 8  # Adjust as needed\n",
    "images_tensor = torch.empty((num_images_to_sample, *images_batch[0].shape))  # Match image shape\n",
    "\n",
    "# Sample images from the data loader\n",
    "sampled_images = 0\n",
    "for images_batch, _ in data_loader:\n",
    "  # Concatenate the batch with the existing tensor (up to the desired number)\n",
    "  images_tensor[:min(num_images_to_sample - sampled_images, len(images_batch))] = images_batch[:min(num_images_to_sample - sampled_images, len(images_batch))]\n",
    "  sampled_images += len(images_batch)\n",
    "  if sampled_images >= num_images_to_sample:\n",
    "    break  # Break after sampling enough images\n",
    "\n",
    "# Create and display the grid (same as before)\n",
    "grid = make_grid(images_tensor, nrow=4)\n",
    "plt.imshow(grid.permute(1, 2, 0))\n",
    "plt.axis('off')\n",
    "plt.show()\n"
   ]
  },
  {
   "cell_type": "code",
   "execution_count": null,
   "id": "1144c8fc",
   "metadata": {
    "scrolled": true
   },
   "outputs": [],
   "source": [
    "sample_img(labels[:10])"
   ]
  },
  {
   "cell_type": "markdown",
   "id": "d696c660",
   "metadata": {},
   "source": [
    "## Build Model"
   ]
  },
  {
   "cell_type": "code",
   "execution_count": 4,
   "id": "47e9a6f7",
   "metadata": {},
   "outputs": [],
   "source": [
    "import torch\n",
    "from torch import nn"
   ]
  },
  {
   "cell_type": "code",
   "execution_count": 5,
   "id": "cb8a4a10",
   "metadata": {},
   "outputs": [],
   "source": [
    "num_classes = len(labels)\n",
    "in_shape = (32,32,1)"
   ]
  },
  {
   "cell_type": "code",
   "execution_count": 10,
   "id": "deae7cb8",
   "metadata": {},
   "outputs": [
    {
     "name": "stdout",
     "output_type": "stream",
     "text": [
      "ConvolutionalNetwork(\n",
      "  (conv1): Conv2d(32, 32, kernel_size=(3, 3), stride=(1, 1), padding=(1, 1))\n",
      "  (pool1): MaxPool2d(kernel_size=2, stride=2, padding=0, dilation=1, ceil_mode=False)\n",
      "  (bn1): BatchNorm2d(32, eps=1e-05, momentum=0.1, affine=True, track_running_stats=True)\n",
      "  (conv2): Conv2d(32, 64, kernel_size=(3, 3), stride=(1, 1), padding=(1, 1))\n",
      "  (pool2): MaxPool2d(kernel_size=2, stride=2, padding=0, dilation=1, ceil_mode=False)\n",
      "  (bn2): BatchNorm2d(64, eps=1e-05, momentum=0.1, affine=True, track_running_stats=True)\n",
      "  (conv3): Conv2d(64, 128, kernel_size=(3, 3), stride=(1, 1), padding=(1, 1))\n",
      "  (pool3): MaxPool2d(kernel_size=2, stride=2, padding=0, dilation=1, ceil_mode=False)\n",
      "  (bn3): BatchNorm2d(128, eps=1e-05, momentum=0.1, affine=True, track_running_stats=True)\n",
      "  (fc1): Linear(in_features=4096, out_features=128, bias=True)\n",
      "  (fc2): Linear(in_features=128, out_features=29, bias=True)\n",
      ")\n"
     ]
    }
   ],
   "source": [
    "\n",
    "# Define input shape (assuming channels, height, width)\n",
    "in_channels, in_height, in_width = in_shape\n",
    "\n",
    "# Create the model class\n",
    "class ConvolutionalNetwork(nn.Module):\n",
    "  def __init__(self):\n",
    "    super().__init__()\n",
    "    \n",
    "    # Convolutional layers\n",
    "    self.conv1 = nn.Conv2d(in_channels, 32, kernel_size=3, padding=1)  # Same padding\n",
    "    self.bn1 = nn.BatchNorm2d(32)\n",
    "    self.conv2 = nn.Conv2d(32, 64, kernel_size=3, padding=1)\n",
    "    self.bn2 = nn.BatchNorm2d(64)\n",
    "    self.conv3 = nn.Conv2d(64, 128, kernel_size=3, padding=1)\n",
    "    self.bn3 = nn.BatchNorm2d(128)\n",
    "\n",
    "    # Fully-connected layers\n",
    "    self.fc1 = nn.Linear(in_height * in_width * 128, 128)  # Flatten before FC\n",
    "    self.fc2 = nn.Linear(128, num_classes)\n",
    "\n",
    "  def forward(self, X):\n",
    "    X = F.relu(self.conv1(x))\n",
    "    x = F.pool1(x)\n",
    "    x = F.bn1(x)\n",
    "    x = F.relu(self.conv2(x))\n",
    "    x = F.pool2(x)\n",
    "    x = F.bn2(x)\n",
    "    x = F.relu(self.conv3(x))\n",
    "    x = F.pool3(x)\n",
    "    x = F.bn3(x)\n",
    "    x = x.view(-1, in_height * in_width * 128)  # Flatten\n",
    "    x = F.relu(self.fc1(x))\n",
    "    x = self.fc2(x)\n",
    "    return x\n",
    "\n",
    "# Create an instance of the model\n",
    "torch.manual_seed(42)\n",
    "model = ConvolutionalNetwork()\n",
    "\n",
    "# Print model summary (similar to TensorFlow summary)\n",
    "print(model)\n"
   ]
  },
  {
   "cell_type": "code",
   "execution_count": 14,
   "id": "7b09019c",
   "metadata": {},
   "outputs": [],
   "source": [
    "class ConvolutionalNetwork(nn.Module):\n",
    "    def __init__(self):\n",
    "        super().__init__()\n",
    "        self.conv1 = nn.Conv2d(1, 32, kernel_size=5, padding=2)\n",
    "        self.bn1 = nn.BatchNorm2d(32)\n",
    "        self.conv2 = nn.Conv2d(32, 64, kernel_size=5, padding=1)\n",
    "        self.bn2 = nn.BatchNorm2d(64)\n",
    "        self.fc1 = nn.Linear(6*6*64, 600)\n",
    "        self.dropout = nn.Dropout2d(0.25)\n",
    "        self.fc2 = nn.Linear(600, 120)\n",
    "        self.fc3 = nn.Linear(120, 10)\n",
    "\n",
    "    def forward(self, X):\n",
    "        X = F.relu(self.bn1(self.conv1(X)))\n",
    "        X = F.max_pool2d(X, 2, 2)\n",
    "        X = F.relu(self.bn2(self.conv2(X)))\n",
    "        X = F.max_pool2d(X, 2, 2)\n",
    "        X = X.view(-1, 6*6*64)\n",
    "        X = F.relu(self.fc1(X))\n",
    "        x = self.dropout(X)\n",
    "        X = F.relu(self.fc2(X))\n",
    "        X = self.fc3(X)\n",
    "        return F.log_softmax(X, dim=1)"
   ]
  },
  {
   "cell_type": "code",
   "execution_count": 11,
   "id": "5f9c8541",
   "metadata": {},
   "outputs": [
    {
     "name": "stdout",
     "output_type": "stream",
     "text": [
      "Using GPU for training!\n"
     ]
    }
   ],
   "source": [
    "if torch.cuda.is_available():\n",
    "  device = torch.device(\"cuda\")\n",
    "  print(\"Using GPU for training!\")\n",
    "else:\n",
    "  device = torch.device(\"cpu\")\n",
    "  print(\"Using CPU for training (GPU not available).\")"
   ]
  },
  {
   "cell_type": "code",
   "execution_count": 12,
   "id": "4ebf090d",
   "metadata": {},
   "outputs": [
    {
     "name": "stdout",
     "output_type": "stream",
     "text": [
      "  9216\n",
      "    32\n",
      "    32\n",
      "    32\n",
      " 18432\n",
      "    64\n",
      "    64\n",
      "    64\n",
      " 73728\n",
      "   128\n",
      "   128\n",
      "   128\n",
      "524288\n",
      "   128\n",
      "  3712\n",
      "    29\n",
      "______\n",
      "630205\n"
     ]
    }
   ],
   "source": [
    "def count_parameters(model):\n",
    "    params = [p.numel() for p in model.parameters() if p.requires_grad]\n",
    "    for item in params:\n",
    "        print(f'{item:>6}')\n",
    "    print(f'______\\n{sum(params):>6}')\n",
    "    \n",
    "count_parameters(model)"
   ]
  },
  {
   "cell_type": "code",
   "execution_count": 13,
   "id": "819078c9",
   "metadata": {},
   "outputs": [
    {
     "ename": "NameError",
     "evalue": "name 'F' is not defined",
     "output_type": "error",
     "traceback": [
      "\u001b[1;31m---------------------------------------------------------------------------\u001b[0m",
      "\u001b[1;31mNameError\u001b[0m                                 Traceback (most recent call last)",
      "Cell \u001b[1;32mIn[13], line 15\u001b[0m\n\u001b[0;32m     12\u001b[0m \u001b[38;5;28;01mfor\u001b[39;00m epoch \u001b[38;5;129;01min\u001b[39;00m \u001b[38;5;28mrange\u001b[39m(epochs):\n\u001b[0;32m     13\u001b[0m   \u001b[38;5;28;01mfor\u001b[39;00m i, (images, labels) \u001b[38;5;129;01min\u001b[39;00m \u001b[38;5;28menumerate\u001b[39m(train_loader):  \u001b[38;5;66;03m# Assuming train_loader is your data loader\u001b[39;00m\n\u001b[0;32m     14\u001b[0m     \u001b[38;5;66;03m# Forward pass\u001b[39;00m\n\u001b[1;32m---> 15\u001b[0m     outputs \u001b[38;5;241m=\u001b[39m model(images)\n\u001b[0;32m     17\u001b[0m     \u001b[38;5;66;03m# Calculate loss\u001b[39;00m\n\u001b[0;32m     18\u001b[0m     loss \u001b[38;5;241m=\u001b[39m criterion(outputs, labels)\n",
      "File \u001b[1;32mc:\\Users\\Justin\\anaconda3\\Lib\\site-packages\\torch\\nn\\modules\\module.py:1511\u001b[0m, in \u001b[0;36mModule._wrapped_call_impl\u001b[1;34m(self, *args, **kwargs)\u001b[0m\n\u001b[0;32m   1509\u001b[0m     \u001b[38;5;28;01mreturn\u001b[39;00m \u001b[38;5;28mself\u001b[39m\u001b[38;5;241m.\u001b[39m_compiled_call_impl(\u001b[38;5;241m*\u001b[39margs, \u001b[38;5;241m*\u001b[39m\u001b[38;5;241m*\u001b[39mkwargs)  \u001b[38;5;66;03m# type: ignore[misc]\u001b[39;00m\n\u001b[0;32m   1510\u001b[0m \u001b[38;5;28;01melse\u001b[39;00m:\n\u001b[1;32m-> 1511\u001b[0m     \u001b[38;5;28;01mreturn\u001b[39;00m \u001b[38;5;28mself\u001b[39m\u001b[38;5;241m.\u001b[39m_call_impl(\u001b[38;5;241m*\u001b[39margs, \u001b[38;5;241m*\u001b[39m\u001b[38;5;241m*\u001b[39mkwargs)\n",
      "File \u001b[1;32mc:\\Users\\Justin\\anaconda3\\Lib\\site-packages\\torch\\nn\\modules\\module.py:1520\u001b[0m, in \u001b[0;36mModule._call_impl\u001b[1;34m(self, *args, **kwargs)\u001b[0m\n\u001b[0;32m   1515\u001b[0m \u001b[38;5;66;03m# If we don't have any hooks, we want to skip the rest of the logic in\u001b[39;00m\n\u001b[0;32m   1516\u001b[0m \u001b[38;5;66;03m# this function, and just call forward.\u001b[39;00m\n\u001b[0;32m   1517\u001b[0m \u001b[38;5;28;01mif\u001b[39;00m \u001b[38;5;129;01mnot\u001b[39;00m (\u001b[38;5;28mself\u001b[39m\u001b[38;5;241m.\u001b[39m_backward_hooks \u001b[38;5;129;01mor\u001b[39;00m \u001b[38;5;28mself\u001b[39m\u001b[38;5;241m.\u001b[39m_backward_pre_hooks \u001b[38;5;129;01mor\u001b[39;00m \u001b[38;5;28mself\u001b[39m\u001b[38;5;241m.\u001b[39m_forward_hooks \u001b[38;5;129;01mor\u001b[39;00m \u001b[38;5;28mself\u001b[39m\u001b[38;5;241m.\u001b[39m_forward_pre_hooks\n\u001b[0;32m   1518\u001b[0m         \u001b[38;5;129;01mor\u001b[39;00m _global_backward_pre_hooks \u001b[38;5;129;01mor\u001b[39;00m _global_backward_hooks\n\u001b[0;32m   1519\u001b[0m         \u001b[38;5;129;01mor\u001b[39;00m _global_forward_hooks \u001b[38;5;129;01mor\u001b[39;00m _global_forward_pre_hooks):\n\u001b[1;32m-> 1520\u001b[0m     \u001b[38;5;28;01mreturn\u001b[39;00m forward_call(\u001b[38;5;241m*\u001b[39margs, \u001b[38;5;241m*\u001b[39m\u001b[38;5;241m*\u001b[39mkwargs)\n\u001b[0;32m   1522\u001b[0m \u001b[38;5;28;01mtry\u001b[39;00m:\n\u001b[0;32m   1523\u001b[0m     result \u001b[38;5;241m=\u001b[39m \u001b[38;5;28;01mNone\u001b[39;00m\n",
      "Cell \u001b[1;32mIn[10], line 25\u001b[0m, in \u001b[0;36mConvolutionalNetwork.forward\u001b[1;34m(self, x)\u001b[0m\n\u001b[0;32m     24\u001b[0m \u001b[38;5;28;01mdef\u001b[39;00m \u001b[38;5;21mforward\u001b[39m(\u001b[38;5;28mself\u001b[39m, x):\n\u001b[1;32m---> 25\u001b[0m   x \u001b[38;5;241m=\u001b[39m F\u001b[38;5;241m.\u001b[39mrelu(\u001b[38;5;28mself\u001b[39m\u001b[38;5;241m.\u001b[39mconv1(x))\n\u001b[0;32m     26\u001b[0m   x \u001b[38;5;241m=\u001b[39m F\u001b[38;5;241m.\u001b[39mpool1(x)\n\u001b[0;32m     27\u001b[0m   x \u001b[38;5;241m=\u001b[39m F\u001b[38;5;241m.\u001b[39mbn1(x)\n",
      "\u001b[1;31mNameError\u001b[0m: name 'F' is not defined"
     ]
    }
   ],
   "source": [
    "from torch.optim import Adam\n",
    "\n",
    "# Define loss function\n",
    "criterion = nn.CrossEntropyLoss()\n",
    "\n",
    "# Define optimizer with a learning rate of 0.001\n",
    "optimizer = Adam(model.parameters(), lr=0.001)\n",
    "\n",
    "# Training loop\n",
    "epochs = 50  # Set the number of epochs to 50\n",
    "\n",
    "for epoch in range(epochs):\n",
    "  for i, (images, labels) in enumerate(train_loader):  # Assuming train_loader is your data loader\n",
    "    # Forward pass\n",
    "    outputs = model(images)\n",
    "\n",
    "    # Calculate loss\n",
    "    loss = criterion(outputs, labels)\n",
    "\n",
    "    # Backward pass and update\n",
    "    optimizer.zero_grad()\n",
    "    loss.backward()\n",
    "    optimizer.step()\n",
    "\n",
    "    # Print training progress (optional)\n",
    "    if (i+1) % print_every == 0:  # Print every 'print_every' batches\n",
    "      print(f'Epoch [{epoch+1}/{epochs}], Step [{i+1}/{len(train_loader)}], Loss: {loss.item():.4f}')\n"
   ]
  }
 ],
 "metadata": {
  "kernelspec": {
   "display_name": "Python 3 (ipykernel)",
   "language": "python",
   "name": "python3"
  },
  "language_info": {
   "codemirror_mode": {
    "name": "ipython",
    "version": 3
   },
   "file_extension": ".py",
   "mimetype": "text/x-python",
   "name": "python",
   "nbconvert_exporter": "python",
   "pygments_lexer": "ipython3",
   "version": "3.11.4"
  }
 },
 "nbformat": 4,
 "nbformat_minor": 5
}
